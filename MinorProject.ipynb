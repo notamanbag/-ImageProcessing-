{
  "nbformat": 4,
  "nbformat_minor": 0,
  "metadata": {
    "colab": {
      "name": "MinorProject.ipynb",
      "provenance": [],
      "collapsed_sections": [],
      "include_colab_link": true
    },
    "kernelspec": {
      "name": "python3",
      "display_name": "Python 3"
    },
    "language_info": {
      "name": "python"
    }
  },
  "cells": [
    {
      "cell_type": "markdown",
      "metadata": {
        "id": "view-in-github",
        "colab_type": "text"
      },
      "source": [
        "<a href=\"https://colab.research.google.com/github/notamanbag/-ImageProcessing-/blob/main/MinorProject.ipynb\" target=\"_parent\"><img src=\"https://colab.research.google.com/assets/colab-badge.svg\" alt=\"Open In Colab\"/></a>"
      ]
    },
    {
      "cell_type": "markdown",
      "metadata": {
        "id": "C00G4TTPUEMa"
      },
      "source": [
        "# New Section"
      ]
    },
    {
      "cell_type": "code",
      "metadata": {
        "id": "jlUghSZFKbWr"
      },
      "source": [
        "!tar -xvf '/content/drive/MyDrive/DatasetB/silhouettes/001.tar.gz' -C /content/drive/MyDrive/DatasetB/Extracted #code for extracting files"
      ],
      "execution_count": null,
      "outputs": []
    },
    {
      "cell_type": "code",
      "metadata": {
        "id": "IvtQoaZ1MsMl",
        "colab": {
          "base_uri": "https://localhost:8080/"
        },
        "outputId": "906dc2e5-cfaa-4b52-8380-b4bd44a9cc85"
      },
      "source": [
        "from google.colab import drive\n",
        "drive.mount('/content/drive')"
      ],
      "execution_count": null,
      "outputs": [
        {
          "output_type": "stream",
          "text": [
            "Mounted at /content/drive\n"
          ],
          "name": "stdout"
        }
      ]
    },
    {
      "cell_type": "code",
      "metadata": {
        "id": "x2DjxOamwUFJ"
      },
      "source": [
        "#basically create list  a 3d matrix \n",
        "#orienttation of 3d matrix\n",
        "# [ ANgle Sequence Image]\n",
        "\n",
        "import os, numpy, PIL\n",
        "from PIL import Image\n",
        "counts =1\n",
        "def avgImage(imlist):\n",
        "  \n",
        "  w,h=Image.open(imlist[2]).size\n",
        "\n",
        "  N=len(imlist) -2\n",
        "\n",
        "  arr=numpy.zeros((h,w,3),numpy.float)\n",
        "\n",
        "  for im in imlist[2:]: # since the incoming list contains [deg,seqNo,paths of all the respective sequence]\n",
        "    # im = Image.open(im).size\n",
        "\n",
        "    w,h = Image.open(im).size\n",
        "\n",
        "    imarr=numpy.array(Image.open(im).convert('RGB'),dtype=numpy.float)\n",
        "    \n",
        "    arr=arr+imarr/N\n",
        "  arr=numpy.array(numpy.round(arr),dtype=numpy.uint8)\n",
        "  # out=Image.fromarray(arr,mode=\"RGB\")\n",
        "  # out.save(\"test.png\")\n",
        "  \n",
        "  return arr\n"
      ],
      "execution_count": null,
      "outputs": []
    },
    {
      "cell_type": "code",
      "metadata": {
        "id": "Nz3aRKR_0V_w",
        "colab": {
          "base_uri": "https://localhost:8080/"
        },
        "outputId": "be66b2cb-92de-4bc3-a167-32385362feb0"
      },
      "source": [
        "import os\n",
        "import numpy as np\n",
        "from google.colab.patches import cv2_imshow\n",
        "import matplotlib.pyplot as plt\n",
        "import cv2\n",
        "images =[]\n",
        "\n",
        "bg_add =[]\n",
        "cl_add =[]\n",
        "nm_add =[]\n",
        "\n",
        "\n",
        "\n",
        " \n",
        "path =\"/content/drive/MyDrive/DatasetB/Extracted/\"   \n",
        "for deg in range(0,181,18):\n",
        "  for seq in range(59,72,1):\n",
        "    tempBg = [deg]\n",
        "    tempCl = [deg]\n",
        "    tempNm = [deg]\n",
        "    tempBg.append(seq)\n",
        "    tempCl.append(seq)\n",
        "    tempNm.append(seq)\n",
        "    for filename in os.listdir(path):                                                     # to come inside extracted\n",
        "                                                                                     # if(filename == \"001\"):\n",
        "        for filename1 in os.listdir(path+filename+\"/\"):\n",
        "              # print(filename1)\n",
        "              if \"-01\" in filename1:   # to come inside all the folders inside extractred(001,002.003)\n",
        "                for filename2 in os.listdir(path+filename+\"/\"+filename1+\"/\"):  \n",
        "                    for filename3 in os.listdir(path+filename+\"/\"+filename1+\"/\"+filename2+\"/\"): \n",
        "                        x = \"00\"+str(seq)\n",
        "                        if seq >9:\n",
        "                            x= \"0\" + str(seq)\n",
        "                        if deg > 0 and deg < 100:\n",
        "                            degStr = \"0\"+str(deg)\n",
        "                        if deg == 0:\n",
        "                            degStr = \"000\"\n",
        "                        if deg > 100:\n",
        "                           degStr = str(deg)\n",
        "                        \n",
        "                        if filename3.endswith(degStr+\"-\"+x+\".png\"):                                          # due to this condition we are only visiting zero degree\n",
        "                              new_path = path+filename+\"/\"+filename1+\"/\"+filename2+\"/\"+ filename3\n",
        "                              if \"bg-01\" in filename3:                                                     # due to this condtion we are only selecting the image wuth bg-01\n",
        "                                  \n",
        "                                  img = cv2.imread(new_path)\n",
        "                                  half = cv2.resize(img, (0, 0), fx = 0.5, fy =0.5)\n",
        "                                  tempBg.append(new_path)\n",
        "                               \n",
        "                              if \"nm-01\" in filename3:                                                     # due to this condtion we are only selecting the image wuth bg-01\n",
        "                                  img = cv2.imread(new_path)\n",
        "                                  half = cv2.resize(img, (0, 0), fx = 0.5, fy =0.5)\n",
        "                                  tempNm.append(new_path)\n",
        "                                 \n",
        "                              if \"cl-01\" in filename3:                                                     # due to this condtion we are only selecting the image wuth bg-01\n",
        "                                  img = cv2.imread(new_path)\n",
        "                                  half = cv2.resize(img, (0, 0), fx = 0.5, fy =0.5)\n",
        "                                  tempCl.append(new_path)\n",
        "                                 \n",
        "\n",
        "    \n",
        "    \n",
        "    returnedImage_bg = avgImage(tempBg) #calling a function which will handle averageing the images in the templist\n",
        "    tempBg.clear()\n",
        "    tempBg.append(deg)\n",
        "    tempBg.append(seq)\n",
        "    tempBg.append(returnedImage_bg)\n",
        "    bg_add.append(tempBg)\n",
        "\n",
        "    returnedImage_cl = avgImage(tempCl)\n",
        "    tempCl.clear()\n",
        "    tempCl.append(deg)\n",
        "    tempCl.append(seq)\n",
        "    tempCl.append(returnedImage_cl)\n",
        "    cl_add.append(tempCl)\n",
        "\n",
        "    returnedImage_nm = avgImage(tempNm)\n",
        "    tempNm.clear()\n",
        "    tempNm.append(deg)\n",
        "    tempNm.append(seq)\n",
        "    tempNm.append(returnedImage_nm)\n",
        "    nm_add.append(tempNm)\n",
        "    \n",
        "    finalLevel(bg_add)\n",
        "    finalLevel(nm_add)\n",
        "    finalLevel(cl_add)\n",
        " \n",
        "# cv2_imshow(imageres)\n",
        "# images = np.array(images)                       \n",
        "# print(images.shape)   \n",
        "          "
      ],
      "execution_count": null,
      "outputs": [
        {
          "output_type": "stream",
          "text": [
            "/content/drive/MyDrive/DatasetB/Extracted/002/bg-01/000/002-bg-01-000-069.png\n",
            "/content/drive/MyDrive/DatasetB/Extracted/003/bg-01/000/003-bg-01-000-069.png\n",
            "/content/drive/MyDrive/DatasetB/Extracted/004/bg-01/000/004-bg-01-000-069.png\n",
            "/content/drive/MyDrive/DatasetB/Extracted/001/bg-01/000/001-bg-01-000-069.png\n",
            "/content/drive/MyDrive/DatasetB/Extracted/002/cl-01/000/002-cl-01-000-069.png\n",
            "/content/drive/MyDrive/DatasetB/Extracted/003/cl-01/000/003-cl-01-000-069.png\n",
            "/content/drive/MyDrive/DatasetB/Extracted/004/cl-01/000/004-cl-01-000-069.png\n",
            "/content/drive/MyDrive/DatasetB/Extracted/001/cl-01/000/001-cl-01-000-069.png\n",
            "/content/drive/MyDrive/DatasetB/Extracted/002/nm-01/000/002-nm-01-000-069.png\n",
            "/content/drive/MyDrive/DatasetB/Extracted/003/nm-01/000/003-nm-01-000-069.png\n",
            "/content/drive/MyDrive/DatasetB/Extracted/004/nm-01/000/004-nm-01-000-069.png\n",
            "/content/drive/MyDrive/DatasetB/Extracted/001/nm-01/000/001-nm-01-000-069.png\n"
          ],
          "name": "stdout"
        }
      ]
    },
    {
      "cell_type": "code",
      "metadata": {
        "id": "Wjy7v7--qDTa",
        "colab": {
          "base_uri": "https://localhost:8080/"
        },
        "outputId": "a3ab7060-176e-460a-e918-c1878ffaa43e"
      },
      "source": [
        "#test code written to understnad how are we able to add two images and store them\n",
        "data = Image.fromarray(bg_add[0][2]) # converting the average imaged array obtained to a temporary image\n",
        "data.save('gfg_dummy_pic.png')  # saving the averaged image\n",
        "img = cv2.imread('/content/drive/MyDrive/DatasetB/Extracted/001/bg-01/000/001-bg-01-000-059.png')\n",
        "img2 = cv2.imread('/content/gfg_dummy_pic.png')\n",
        "\n",
        "dst = cv2.addWeighted(img,0.5,img2,0.5,0) # adding the two image with same densityt modifier \n",
        "cv2.imwrite('/content/gf.png', dst) # saving the resultant image\n",
        "\n",
        "[[0,0,[]],[0,2,[]],[]]"
      ],
      "execution_count": null,
      "outputs": [
        {
          "output_type": "execute_result",
          "data": {
            "text/plain": [
              "True"
            ]
          },
          "metadata": {
            "tags": []
          },
          "execution_count": 21
        }
      ]
    },
    {
      "cell_type": "code",
      "metadata": {
        "id": "v3YZnhRQ3Ct-"
      },
      "source": [
        "#FUnction that will handle superimposing average image onto original image\n",
        "def finalLevel(averageList):\n",
        "  # print(averageList)\n",
        "  path =\"/content/drive/MyDrive/DatasetB/Extracted/\"   \n",
        "  for deg in range(0,181,18):\n",
        "    for seq in range(59,72,1):\n",
        "      for filename in os.listdir(path):                                                     # to come inside extracted\n",
        "                                                                                          # if(filename == \"001\"):\n",
        "          for filename1 in os.listdir(path+filename+\"/\"):\n",
        "              \n",
        "                if \"-01\" in filename1:   # to come inside all the folders inside extractred(001,002.003)\n",
        "                  for filename2 in os.listdir(path+filename+\"/\"+filename1+\"/\"):  \n",
        "                      for filename3 in os.listdir(path+filename+\"/\"+filename1+\"/\"+filename2+\"/\"): \n",
        "                          x = \"00\"+str(seq)\n",
        "                          if seq >9:\n",
        "                              x= \"0\" + str(seq)\n",
        "                          if deg > 0 and deg < 100:\n",
        "                              degStr = \"0\"+str(deg)\n",
        "                          if deg == 0:\n",
        "                              degStr = \"000\"\n",
        "                          if deg > 100:\n",
        "                            degStr = str(deg)\n",
        "                          \n",
        "                          if filename3.endswith(degStr+\"-\"+x+\".png\"):                                          # due to this condition we are only visiting zero degree\n",
        "                                new_path = path+filename+\"/\"+filename1+\"/\"+filename2+\"/\"+ filename3\n",
        "                                if \"bg-01\" in filename3:\n",
        "                                    x = len(averageList)                                                     # due to this condtion we are only selecting the image wuth bg-01\n",
        "                                    for a in range(x):\n",
        "                                      data = Image.fromarray(averageList[a][2])\n",
        "                                      data.save('temp.png')\n",
        "                                      img = cv2.imread(new_path)\n",
        "                                      img2 = cv2.imread('/content/temp.png')\n",
        "                                      dst = cv2.addWeighted(img,0.5,img2,0.5,0) # adding two images with same wweightage\n",
        "                                      cv2.imwrite('/content/drive/MyDrive/DatasetB/EncryptedIMages/'+filename3 ,dst)\n",
        "\n",
        "                                if \"nm-01\" in filename3:                                                     # due to this condtion we are only selecting the image wuth bg-01\n",
        "                                     x = len(averageList)                                                     # due to this condtion we are only selecting the image wuth bg-01\n",
        "                                     for a in range(x):\n",
        "                                        data = Image.fromarray(averageList[a][2])\n",
        "                                        data.save('temp.png')\n",
        "                                        img = cv2.imread(new_path)\n",
        "                                        img2 = cv2.imread('/content/temp.png')\n",
        "                                        dst = cv2.addWeighted(img,0.5,img2,0.5,0) # adding two images with same wweightage\n",
        "                                        cv2.imwrite('/content/drive/MyDrive/DatasetB/EncryptedIMages/'+filename3 ,dst)\n",
        "                                    \n",
        "                                if \"cl-01\" in filename3:                                                     # due to this condtion we are only selecting the image wuth bg-01\n",
        "                                     x = len(averageList)                                                     # due to this condtion we are only selecting the image wuth bg-01\n",
        "                                     for a in range(x):\n",
        "                                        data = Image.fromarray(averageList[a][2])\n",
        "                                        data.save('temp.png')\n",
        "                                        img = cv2.imread(new_path)\n",
        "                                        img2 = cv2.imread('/content/temp.png')\n",
        "                                        dst = cv2.addWeighted(img,0.5,img2,0.5,0) # adding two images with same wweightage\n",
        "                                        cv2.imwrite('/content/drive/MyDrive/DatasetB/EncryptedIMages/'+filename3 ,dst)\n",
        "                                      \n"
      ],
      "execution_count": null,
      "outputs": []
    },
    {
      "cell_type": "code",
      "metadata": {
        "id": "FY5ZgaJT0mlT"
      },
      "source": [
        "print(bg_add)"
      ],
      "execution_count": null,
      "outputs": []
    },
    {
      "cell_type": "code",
      "metadata": {
        "id": "TZczfSHF8fIO"
      },
      "source": [
        "#[angle sequence imageArray]\n",
        "#test code written to understnad how are we able to add two images and store them\n",
        "data = Image.fromarray(bg_add[0][2]) # converting the average imaged array obtained to a temporary image\n",
        "data.save('gfg_dummy_pic.png')  # saving the averaged image\n",
        "img = cv2.imread('/content/drive/MyDrive/DatasetB/EncryptedImage/')\n",
        "img2 = cv2.imread('/content/gfg_dummy_pic.png')\n",
        "\n",
        "dst = cv2.subratct() # adding the two image with same densityt modifier \n",
        "cv2.imwrite('/content/gf.png', dst) # saving the resultant image"
      ],
      "execution_count": null,
      "outputs": []
    },
    {
      "cell_type": "code",
      "metadata": {
        "id": "8EpX_7iOfwtG"
      },
      "source": [
        "#Decryption OF images\n",
        "import os\n",
        "import numpy as np\n",
        "from google.colab.patches import cv2_imshow\n",
        "import matplotlib.pyplot as plt\n",
        "import cv2\n",
        "images =[]\n",
        "\n",
        "bg_sub =[]\n",
        "cl_sub =[]\n",
        "nm_sub =[]\n",
        "\n",
        "\n",
        "degree = \"000\"\n",
        " \n",
        "path =\"/content/drive/MyDrive/DatasetB/Extracted/\"   \n",
        "for deg in range(0,181,18):\n",
        "\n",
        "  for seq in range(59,72,1):\n",
        "    tempBg = [deg]\n",
        "    tempCl = [deg]\n",
        "    tempNm = [deg]\n",
        "    tempBg.append(seq)\n",
        "    tempCl.append(seq)\n",
        "    tempNm.append(seq)\n",
        "    for filename in os.listdir(path):                                                     # to come inside extracted\n",
        "        print(filename)                                                                                # if(filename == \"001\"):\n",
        "        for filename1 in os.listdir(path+filename+\"/\"):\n",
        "              # print(filename1)\n",
        "              if \"-01\" in filename1:   # to come inside all the folders inside extractred(001,002.003)\n",
        "                for filename2 in os.listdir(path+filename+\"/\"+filename1+\"/\"):  \n",
        "                    for filename3 in os.listdir(path+filename+\"/\"+filename1+\"/\"+filename2+\"/\"): \n",
        "                        x = \"00\"+str(seq)\n",
        "                        if seq >9:\n",
        "                            x= \"0\" + str(seq)\n",
        "                        if deg > 0 and deg < 100:\n",
        "                            degStr = \"0\"+str(deg)\n",
        "                        if deg == 0:\n",
        "                            degStr = \"000\"\n",
        "                        if deg > 100:\n",
        "                           degStr = str(deg)\n",
        "                        \n",
        "                        if filename3.endswith(degStr+\"-\"+x+\".png\"):                                          # due to this condition we are only visiting zero degree\n",
        "                              new_path = path+filename+\"/\"+filename1+\"/\"+filename2+\"/\"+ filename3\n",
        "                              if \"bg-01\" in filename3:                                                     # due to this condtion we are only selecting the image wuth bg-01\n",
        "                                  \n",
        "                                  img = cv2.imread(new_path)\n",
        "                                  \n",
        "                                  tempBg.append(new_path)\n",
        "                               \n",
        "                              if \"nm-01\" in filename3:                                                     # due to this condtion we are only selecting the image wuth bg-01\n",
        "                                  img = cv2.imread(new_path)\n",
        "                                 \n",
        "                                  tempNm.append(new_path)\n",
        "                                 \n",
        "                              if \"cl-01\" in filename3:                                                     # due to this condtion we are only selecting the image wuth bg-01\n",
        "                                  img = cv2.imread(new_path)\n",
        "                                  \n",
        "                                  tempCl.append(new_path)\n",
        "                                 \n",
        "\n",
        "    \n",
        "    \n",
        "    returnedImage_bg = avgImage(tempBg) #calling a function which will handle averageing the images in the templist\n",
        "    tempBg.clear()\n",
        "    tempBg.append(deg)\n",
        "    tempBg.append(seq)\n",
        "    tempBg.append(returnedImage_bg)\n",
        "    bg_sub.append(tempBg)\n",
        "\n",
        "    returnedImage_cl = avgImage(tempCl)\n",
        "    tempCl.clear()\n",
        "    tempCl.append(deg)\n",
        "    tempCl.append(seq)\n",
        "    tempCl.append(returnedImage_cl)\n",
        "    cl_sub.append(tempCl)\n",
        "\n",
        "    returnedImage_nm = avgImage(tempNm)\n",
        "    tempNm.clear()\n",
        "    tempNm.append(deg)\n",
        "    tempNm.append(seq)\n",
        "    tempNm.append(returnedImage_nm)\n",
        "    nm_sub.append(tempNm)\n",
        "    decryptImage(bg_sub)\n",
        "    decryptImage(nm_sub)\n",
        "    decryptImage(cl_sub)\n",
        "    "
      ],
      "execution_count": null,
      "outputs": []
    },
    {
      "cell_type": "code",
      "metadata": {
        "id": "V5zj_uSWhFz7"
      },
      "source": [
        "#Function that will handle decryption of images \n",
        "def decryptImage(liat):\n",
        "  path =\"/content/drive/MyDrive/DatasetB/EncryptedImages/\" \n",
        "  for filename in os.listdir(path):         #For traversing the encrypted datset\n",
        "    for a in list:                          #For traversing th e list whiich will contain an average numpy array of images\n",
        "      for b in a:\n",
        "        if list[a][0] in filename:          #Checking to see if we are suntracting the right image from the right image\n",
        "          if list[a][1] in filename:\n",
        "            img1 = cv2.imread(path+filename)\n",
        "            data= Image.fromarray(averageList[a][2])\n",
        "            data.save('temp.png')\n",
        "            img2 = cv2.imread('/content/temp.png')\n",
        "            dst = cv2.subtract(img1,img2)\n",
        "            cv2.imwrite('/content/drive/MyDrive/DatasetB/DecryptedIMages/'+filename,dst) # Saving the decrypted image after performing the algorithm\n",
        "\n",
        "\n",
        "\n"
      ],
      "execution_count": null,
      "outputs": []
    }
  ]
}